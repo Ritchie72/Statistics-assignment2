{
 "cells": [
  {
   "cell_type": "markdown",
   "id": "6ab66da5",
   "metadata": {},
   "source": [
    "# Q1. What are the three measures of central tendency?"
   ]
  },
  {
   "cell_type": "markdown",
   "id": "925e97ae",
   "metadata": {},
   "source": [
    "1] Mean: The mean, also known as the average, is calculated by adding up all the values in a dataset and dividing the sum by the total number of values. It represents the typical value in a dataset.\n",
    "\n"
   ]
  },
  {
   "cell_type": "markdown",
   "id": "057dc8d4",
   "metadata": {},
   "source": [
    "2] Median: The median is the middle value in an ordered dataset."
   ]
  },
  {
   "cell_type": "markdown",
   "id": "4c31de11",
   "metadata": {},
   "source": [
    "3] Mode: The mode represents the most frequently occurring value in a dataset."
   ]
  },
  {
   "cell_type": "markdown",
   "id": "fdf1f6b1",
   "metadata": {},
   "source": [
    "# Q2. What is the difference between the mean, median, and mode? How are they used to measure the central tendency of a dataset?"
   ]
  },
  {
   "cell_type": "markdown",
   "id": "105f1dff",
   "metadata": {},
   "source": [
    "Mean: Average value,for that It takes into account every value in the dataset and provides a measure of the average value.Median: The median is the middle value in an ordered dataset. Mode: The mode represents the most frequently occurring value in a dataset."
   ]
  },
  {
   "cell_type": "markdown",
   "id": "f14442dc",
   "metadata": {},
   "source": [
    "The mean is influenced by all values, the median is less sensitive to extreme values, and the mode identifies the most frequent value. Each measure provides different insights into the central tendency of a dataset and can be used depending on the nature of the data and the specific question being addressed.\n",
    "\n",
    "\n",
    "\n",
    "\n"
   ]
  },
  {
   "cell_type": "markdown",
   "id": "aacec508",
   "metadata": {},
   "source": [
    "# Q3. Measure the three measures of central tendency for the given height data:"
   ]
  },
  {
   "cell_type": "code",
   "execution_count": 2,
   "id": "ede66ceb",
   "metadata": {},
   "outputs": [],
   "source": [
    "import numpy as np"
   ]
  },
  {
   "cell_type": "code",
   "execution_count": 3,
   "id": "970eb1d3",
   "metadata": {},
   "outputs": [],
   "source": [
    "list1 =  [178,177,176,177,178.2,178,175,179,180,175,178.9,176.2,177,172.5,178,176.5]"
   ]
  },
  {
   "cell_type": "code",
   "execution_count": 4,
   "id": "18c00822",
   "metadata": {},
   "outputs": [
    {
     "data": {
      "text/plain": [
       "177.01875"
      ]
     },
     "execution_count": 4,
     "metadata": {},
     "output_type": "execute_result"
    }
   ],
   "source": [
    "np.mean(list1)"
   ]
  },
  {
   "cell_type": "code",
   "execution_count": 5,
   "id": "8f7064c5",
   "metadata": {},
   "outputs": [
    {
     "data": {
      "text/plain": [
       "177.0"
      ]
     },
     "execution_count": 5,
     "metadata": {},
     "output_type": "execute_result"
    }
   ],
   "source": [
    "np.median(list1)"
   ]
  },
  {
   "cell_type": "code",
   "execution_count": 6,
   "id": "47820fd5",
   "metadata": {},
   "outputs": [],
   "source": [
    "from scipy import stats"
   ]
  },
  {
   "cell_type": "code",
   "execution_count": 7,
   "id": "41168b79",
   "metadata": {},
   "outputs": [
    {
     "name": "stderr",
     "output_type": "stream",
     "text": [
      "C:\\Users\\91951\\AppData\\Local\\Temp\\ipykernel_45400\\2229924894.py:1: FutureWarning: Unlike other reduction functions (e.g. `skew`, `kurtosis`), the default behavior of `mode` typically preserves the axis it acts along. In SciPy 1.11.0, this behavior will change: the default value of `keepdims` will become False, the `axis` over which the statistic is taken will be eliminated, and the value None will no longer be accepted. Set `keepdims` to True or False to avoid this warning.\n",
      "  stats.mode(list1)\n"
     ]
    },
    {
     "data": {
      "text/plain": [
       "ModeResult(mode=array([177.]), count=array([3]))"
      ]
     },
     "execution_count": 7,
     "metadata": {},
     "output_type": "execute_result"
    }
   ],
   "source": [
    "stats.mode(list1)"
   ]
  },
  {
   "cell_type": "markdown",
   "id": "393553c7",
   "metadata": {},
   "source": [
    "# Q4. Find the standard deviation for the given data:"
   ]
  },
  {
   "cell_type": "code",
   "execution_count": 8,
   "id": "327e0ba4",
   "metadata": {},
   "outputs": [],
   "source": [
    "list2 = [178,177,176,177,178.2,178,175,179,180,175,178.9,176.2,177,172.5,178,176.5]"
   ]
  },
  {
   "cell_type": "code",
   "execution_count": 9,
   "id": "a20981d5",
   "metadata": {},
   "outputs": [
    {
     "data": {
      "text/plain": [
       "1.7885814036548633"
      ]
     },
     "execution_count": 9,
     "metadata": {},
     "output_type": "execute_result"
    }
   ],
   "source": [
    "np.std(list2)"
   ]
  },
  {
   "cell_type": "markdown",
   "id": "871931ab",
   "metadata": {},
   "source": [
    "# Q5. How are measures of dispersion such as range, variance, and standard deviation used to describe the spread of a dataset? Provide an example."
   ]
  },
  {
   "cell_type": "markdown",
   "id": "6310aef4",
   "metadata": {},
   "source": [
    "The range gives a rough estimate of the spread by considering the maximum and minimum values, while the variance and standard deviation provide more precise measures by considering all values and their deviations from the mean. These measures are useful for understanding how the data is dispersed and comparing the variability between different datasets or subsets of data."
   ]
  },
  {
   "cell_type": "markdown",
   "id": "0746f0cc",
   "metadata": {},
   "source": [
    "# Q6. What is a Venn diagram?"
   ]
  },
  {
   "cell_type": "markdown",
   "id": "7cd70956",
   "metadata": {},
   "source": [
    "A Venn diagram is a visual representation of sets or groups, using overlapping circles or shapes to show common and unique elements among the sets. It helps illustrate relationships and compare information."
   ]
  },
  {
   "cell_type": "markdown",
   "id": "3fac08ee",
   "metadata": {},
   "source": [
    "# Q7. For the two given sets A = (2,3,4,5,6,7) & B = (0,2,6,8,10). Find:"
   ]
  },
  {
   "cell_type": "markdown",
   "id": "121fe523",
   "metadata": {},
   "source": [
    "1] A intersect B = (2,6)"
   ]
  },
  {
   "cell_type": "markdown",
   "id": "015a28e2",
   "metadata": {},
   "source": [
    "2] A union B = (0,2,3,4,5,6,7,8,10)"
   ]
  },
  {
   "cell_type": "markdown",
   "id": "705831d7",
   "metadata": {},
   "source": [
    "# Q8. What do you understand about skewness in data?"
   ]
  },
  {
   "cell_type": "markdown",
   "id": "1b0d41cd",
   "metadata": {},
   "source": [
    "Skewness in data measures the asymmetry of a distribution."
   ]
  },
  {
   "cell_type": "markdown",
   "id": "5372161b",
   "metadata": {},
   "source": [
    "# Q9. If a data is right skewed then what will be the position of median with respect to mean?"
   ]
  },
  {
   "cell_type": "markdown",
   "id": "b1ae1eb4",
   "metadata": {},
   "source": [
    "If a data set is right-skewed, the position of the median will be to the left of the mean."
   ]
  },
  {
   "cell_type": "markdown",
   "id": "25ac47ba",
   "metadata": {},
   "source": [
    "# Q10. Explain the difference between covariance and correlation. How are these measures used in statistical analysis?"
   ]
  },
  {
   "cell_type": "markdown",
   "id": "99d174d0",
   "metadata": {},
   "source": [
    "Covariance and correlation are both measures used to assess the relationship between variables in statistical analysis."
   ]
  },
  {
   "cell_type": "markdown",
   "id": "529f7a8a",
   "metadata": {},
   "source": [
    "Covariance: It indicates how changes in one variable are related to changes in another variable.The range of covariance is unbounded, meaning it can take any real value.Covariance can be positive (direct relationship), negative (inverse relationship), or zero (no relationship)."
   ]
  },
  {
   "cell_type": "markdown",
   "id": "f0992543",
   "metadata": {},
   "source": [
    "Correlation: Correlation measures the strength and direction of the linear relationship between two variables.Correlation captures both the strength and direction of the relationship, making it a more informative measure than covariance."
   ]
  },
  {
   "cell_type": "markdown",
   "id": "d801bdaa",
   "metadata": {},
   "source": [
    "Both covariance and correlation are used in statistical analysis to examine the relationship between variables and to assess the degree to which they co-vary. They are widely used in fields such as finance, economics, social sciences, and data analysis."
   ]
  },
  {
   "cell_type": "markdown",
   "id": "440722db",
   "metadata": {},
   "source": [
    "# Q11. What is the formula for calculating the sample mean? Provide an example calculation for a dataset."
   ]
  },
  {
   "cell_type": "markdown",
   "id": "b9a1abaa",
   "metadata": {},
   "source": [
    "Sample Mean = (Sum of all values in the dataset) / (Number of values in the dataset)"
   ]
  },
  {
   "cell_type": "markdown",
   "id": "617f68ec",
   "metadata": {},
   "source": [
    "Dataset: 5, 8, 12, 15, 20,12"
   ]
  },
  {
   "cell_type": "code",
   "execution_count": 10,
   "id": "acaefc43",
   "metadata": {},
   "outputs": [
    {
     "data": {
      "text/plain": [
       "12.0"
      ]
     },
     "execution_count": 10,
     "metadata": {},
     "output_type": "execute_result"
    }
   ],
   "source": [
    "list2 = [5,8,12,15,20,12]\n",
    "np.mean(list2)"
   ]
  },
  {
   "cell_type": "markdown",
   "id": "d9861fb9",
   "metadata": {},
   "source": [
    "sum of all values in the dataset = 5+8+12+15+20+12 = 72"
   ]
  },
  {
   "cell_type": "markdown",
   "id": "359924d0",
   "metadata": {},
   "source": [
    "Number of values in a dataset = 6"
   ]
  },
  {
   "cell_type": "markdown",
   "id": "370e722a",
   "metadata": {},
   "source": [
    "mean = sum of all values in the dataset/number of values in a dataset = 72/6 = 12"
   ]
  },
  {
   "cell_type": "markdown",
   "id": "e3e52a10",
   "metadata": {},
   "source": [
    "# Q12. For a normal distribution data what is the relationship between its measure of central tendency?"
   ]
  },
  {
   "cell_type": "markdown",
   "id": "eae21dc6",
   "metadata": {},
   "source": [
    "For a normal distribution, the mean, median, and mode are all equal to each other."
   ]
  },
  {
   "cell_type": "markdown",
   "id": "484eb0a8",
   "metadata": {},
   "source": [
    "# Q13. How is covariance different from correlation?"
   ]
  },
  {
   "cell_type": "markdown",
   "id": "e6f45362",
   "metadata": {},
   "source": [
    "Covariance measures the extent and direction of the linear relationship between variables, while correlation additionally provides a standardized measure of the strength of the relationship, making it more interpretable and comparable across different datasets."
   ]
  },
  {
   "cell_type": "markdown",
   "id": "4b1ad172",
   "metadata": {},
   "source": [
    "# Q14. How do outliers affect measures of central tendency and dispersion? Provide an example."
   ]
  },
  {
   "cell_type": "markdown",
   "id": "99065bca",
   "metadata": {},
   "source": [
    "Outliers can significantly impact measures of central tendency, such as the mean, median, and mode, by distorting their values. They can also increase measures of dispersion, such as the range and standard deviation, making them less representative of the majority of the data. Proper identification and handling of outliers are important for accurate data analysis."
   ]
  },
  {
   "cell_type": "markdown",
   "id": "80801449",
   "metadata": {},
   "source": [
    "Dataset: 30, 35, 40, 45, 50, 55, 60, 65, 70, 1000"
   ]
  },
  {
   "cell_type": "markdown",
   "id": "a2222a73",
   "metadata": {},
   "source": [
    "The presence of the outlier (1000) significantly affects the mean salary calculation. The mean is sensitive to extreme values, so in this case, the mean salary would be heavily influenced by the outlier, leading to an inflated estimate of the average salary."
   ]
  },
  {
   "cell_type": "markdown",
   "id": "e1be7ad2",
   "metadata": {},
   "source": [
    "The median is less affected by outliers because it represents the middle value in the dataset."
   ]
  },
  {
   "cell_type": "markdown",
   "id": "256e2841",
   "metadata": {},
   "source": [
    "The mode is the most frequent value in the dataset. In this case, there is no mode as each salary value appears only once."
   ]
  },
  {
   "cell_type": "markdown",
   "id": "470e9a59",
   "metadata": {},
   "source": [
    "The range is the difference between the maximum and minimum values in the dataset. The presence of the outlier significantly inflates the range, making it a less reliable measure of dispersion."
   ]
  },
  {
   "cell_type": "markdown",
   "id": "6021ee97",
   "metadata": {},
   "source": [
    "Standard Deviation: The standard deviation measures the spread of data points around the mean. Outliers can greatly increase the standard deviation because they are often far away from the mean. "
   ]
  }
 ],
 "metadata": {
  "kernelspec": {
   "display_name": "Python 3 (ipykernel)",
   "language": "python",
   "name": "python3"
  },
  "language_info": {
   "codemirror_mode": {
    "name": "ipython",
    "version": 3
   },
   "file_extension": ".py",
   "mimetype": "text/x-python",
   "name": "python",
   "nbconvert_exporter": "python",
   "pygments_lexer": "ipython3",
   "version": "3.10.9"
  }
 },
 "nbformat": 4,
 "nbformat_minor": 5
}
